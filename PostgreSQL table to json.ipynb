{
 "cells": [
  {
   "cell_type": "code",
   "execution_count": null,
   "metadata": {},
   "outputs": [],
   "source": [
    "import json\n",
    "import psycopg2\n",
    "import io\n",
    "conn = psycopg2.connect(\"dbname=Netflix_database user=postgres password=qwerty\")\n",
    "cur = conn.cursor()\n",
    "cur.execute(\"select row_to_json (netflix_db) from netflix_db where director like '%David %' and (release_year=2017 or release_year=2018)\")\n",
    "records = cur.fetchall()\n",
    "cur.close()\n",
    "conn.close()\n",
    "with open('records1.json', 'w', encoding='utf-8') as f:\n",
    "    json.dump(records, f, ensure_ascii=False)"
   ]
  }
 ],
 "metadata": {
  "kernelspec": {
   "display_name": "Python 3",
   "language": "python",
   "name": "python3"
  },
  "language_info": {
   "codemirror_mode": {
    "name": "ipython",
    "version": 3
   },
   "file_extension": ".py",
   "mimetype": "text/x-python",
   "name": "python",
   "nbconvert_exporter": "python",
   "pygments_lexer": "ipython3",
   "version": "3.8.5"
  }
 },
 "nbformat": 4,
 "nbformat_minor": 4
}
