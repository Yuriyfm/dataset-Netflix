{
 "cells": [
  {
   "cell_type": "code",
   "execution_count": 1,
   "metadata": {},
   "outputs": [],
   "source": [
    "import psycopg2\n",
    "import io\n",
    "import csv\n",
    "conn = psycopg2.connect(\"dbname=Netflix_database user=postgres password=qwerty\")\n",
    "cur = conn.cursor()\n",
    "cur.execute(\"\"\"\n",
    "    CREATE TABLE NDB(\n",
    "    SHOW_ID text,\n",
    "    TYPE text,\n",
    "    TITLE text,\n",
    "    DIRECTOR text,\n",
    "    CASTS text,\n",
    "    COUNTRY text,\n",
    "    DATE_ADDED text,\n",
    "    RELEASE_YEAR integer,\n",
    "    RATING text,\n",
    "    DURATION text,\n",
    "    LISTED_IN text,\n",
    "    DESCRIPTION text\n",
    ")\n",
    "\"\"\")\n",
    "with io.open(r\"C:\\Users\\Юрий\\Desktop\\Занятия\\Pet-project by LANG\\netflix_titles.csv\", encoding='utf-8') as f:\n",
    "    reader = csv.reader(f)\n",
    "    next(reader)\n",
    "    for row in reader:\n",
    "        cur.execute(\n",
    "        \"INSERT INTO NDB VALUES (%s, %s, %s, %s, %s, %s, %s, %s, %s, %s, %s, %s)\",\n",
    "        row)\n",
    "conn.commit()"
   ]
  },
  {
   "cell_type": "code",
   "execution_count": null,
   "metadata": {},
   "outputs": [],
   "source": []
  }
 ],
 "metadata": {
  "kernelspec": {
   "display_name": "Python 3",
   "language": "python",
   "name": "python3"
  },
  "language_info": {
   "codemirror_mode": {
    "name": "ipython",
    "version": 3
   },
   "file_extension": ".py",
   "mimetype": "text/x-python",
   "name": "python",
   "nbconvert_exporter": "python",
   "pygments_lexer": "ipython3",
   "version": "3.8.5"
  }
 },
 "nbformat": 4,
 "nbformat_minor": 4
}
